{
 "cells": [
  {
   "cell_type": "markdown",
   "metadata": {},
   "source": [
    "# OCML Development Notes\n",
    "## Python Development Documentation"
   ]
  },
  {
   "cell_type": "markdown",
   "metadata": {},
   "source": [
    "Importing the required libraries into the project"
   ]
  },
  {
   "cell_type": "code",
   "execution_count": 2,
   "metadata": {},
   "outputs": [
    {
     "ename": "ImportError",
     "evalue": "DLL load failed while importing ft2font: The specified module could not be found.",
     "output_type": "error",
     "traceback": [
      "\u001b[1;31m---------------------------------------------------------------------------\u001b[0m",
      "\u001b[1;31mImportError\u001b[0m                               Traceback (most recent call last)",
      "\u001b[1;32me:\\OneDrive - County of Orange\\Projects\\OCML\\Github\\OCML-ACV\\acvmlpy\\devtest.ipynb Cell 3\u001b[0m in \u001b[0;36m<cell line: 3>\u001b[1;34m()\u001b[0m\n\u001b[0;32m      <a href='vscode-notebook-cell:/e%3A/OneDrive%20-%20County%20of%20Orange/Projects/OCML/Github/OCML-ACV/acvmlpy/devtest.ipynb#W3sZmlsZQ%3D%3D?line=0'>1</a>\u001b[0m \u001b[39mimport\u001b[39;00m \u001b[39mos\u001b[39;00m\u001b[39m,\u001b[39m \u001b[39mio\u001b[39;00m\u001b[39m,\u001b[39m \u001b[39mrequests\u001b[39;00m\u001b[39m,\u001b[39m \u001b[39mjson\u001b[39;00m\u001b[39m,\u001b[39m \u001b[39mgeojson\u001b[39;00m\u001b[39m,\u001b[39m \u001b[39mcv2\u001b[39;00m\u001b[39m,\u001b[39m \u001b[39mglob\u001b[39;00m\u001b[39m,\u001b[39m \u001b[39mxlrd\u001b[39;00m\u001b[39m,\u001b[39m \u001b[39mmath\u001b[39;00m\u001b[39m,\u001b[39m \u001b[39mhttp\u001b[39;00m\u001b[39m.\u001b[39;00m\u001b[39mclient\u001b[39;00m\u001b[39m,\u001b[39m \u001b[39mpyproj\u001b[39;00m\u001b[39m,\u001b[39m \u001b[39mtime\u001b[39;00m\n\u001b[0;32m      <a href='vscode-notebook-cell:/e%3A/OneDrive%20-%20County%20of%20Orange/Projects/OCML/Github/OCML-ACV/acvmlpy/devtest.ipynb#W3sZmlsZQ%3D%3D?line=1'>2</a>\u001b[0m \u001b[39mimport\u001b[39;00m \u001b[39mpandas\u001b[39;00m \u001b[39mas\u001b[39;00m \u001b[39mpd\u001b[39;00m\n\u001b[1;32m----> <a href='vscode-notebook-cell:/e%3A/OneDrive%20-%20County%20of%20Orange/Projects/OCML/Github/OCML-ACV/acvmlpy/devtest.ipynb#W3sZmlsZQ%3D%3D?line=2'>3</a>\u001b[0m \u001b[39mimport\u001b[39;00m \u001b[39mmatplotlib\u001b[39;00m\u001b[39m.\u001b[39;00m\u001b[39mpyplot\u001b[39;00m \u001b[39mas\u001b[39;00m \u001b[39mplt\u001b[39;00m\n\u001b[0;32m      <a href='vscode-notebook-cell:/e%3A/OneDrive%20-%20County%20of%20Orange/Projects/OCML/Github/OCML-ACV/acvmlpy/devtest.ipynb#W3sZmlsZQ%3D%3D?line=3'>4</a>\u001b[0m \u001b[39mimport\u001b[39;00m \u001b[39mnumpy\u001b[39;00m \u001b[39mas\u001b[39;00m \u001b[39mnp\u001b[39;00m\n\u001b[0;32m      <a href='vscode-notebook-cell:/e%3A/OneDrive%20-%20County%20of%20Orange/Projects/OCML/Github/OCML-ACV/acvmlpy/devtest.ipynb#W3sZmlsZQ%3D%3D?line=4'>5</a>\u001b[0m \u001b[39mfrom\u001b[39;00m \u001b[39mdecimal\u001b[39;00m \u001b[39mimport\u001b[39;00m Decimal\n",
      "File \u001b[1;32mc:\\Users\\ktalexan\\AppData\\Local\\ESRI\\conda\\envs\\agpenv\\lib\\site-packages\\matplotlib\\__init__.py:157\u001b[0m, in \u001b[0;36m<module>\u001b[1;34m\u001b[0m\n\u001b[0;32m    152\u001b[0m         \u001b[39mif\u001b[39;00m LooseVersion(module\u001b[39m.\u001b[39m__version__) \u001b[39m<\u001b[39m minver:\n\u001b[0;32m    153\u001b[0m             \u001b[39mraise\u001b[39;00m \u001b[39mImportError\u001b[39;00m(\u001b[39m\"\u001b[39m\u001b[39mMatplotlib requires \u001b[39m\u001b[39m{}\u001b[39;00m\u001b[39m>=\u001b[39m\u001b[39m{}\u001b[39;00m\u001b[39m; you have \u001b[39m\u001b[39m{}\u001b[39;00m\u001b[39m\"\u001b[39m\n\u001b[0;32m    154\u001b[0m                               \u001b[39m.\u001b[39mformat(modname, minver, module\u001b[39m.\u001b[39m__version__))\n\u001b[1;32m--> 157\u001b[0m _check_versions()\n\u001b[0;32m    160\u001b[0m \u001b[39m# The decorator ensures this always returns the same handler (and it is only\u001b[39;00m\n\u001b[0;32m    161\u001b[0m \u001b[39m# attached once).\u001b[39;00m\n\u001b[0;32m    162\u001b[0m \u001b[39m@functools\u001b[39m\u001b[39m.\u001b[39mlru_cache()\n\u001b[0;32m    163\u001b[0m \u001b[39mdef\u001b[39;00m \u001b[39m_ensure_handler\u001b[39m():\n",
      "File \u001b[1;32mc:\\Users\\ktalexan\\AppData\\Local\\ESRI\\conda\\envs\\agpenv\\lib\\site-packages\\matplotlib\\__init__.py:142\u001b[0m, in \u001b[0;36m_check_versions\u001b[1;34m()\u001b[0m\n\u001b[0;32m    138\u001b[0m \u001b[39mdef\u001b[39;00m \u001b[39m_check_versions\u001b[39m():\n\u001b[0;32m    139\u001b[0m \n\u001b[0;32m    140\u001b[0m     \u001b[39m# Quickfix to ensure Microsoft Visual C++ redistributable\u001b[39;00m\n\u001b[0;32m    141\u001b[0m     \u001b[39m# DLLs are loaded before importing kiwisolver\u001b[39;00m\n\u001b[1;32m--> 142\u001b[0m     \u001b[39mfrom\u001b[39;00m \u001b[39m.\u001b[39;00m \u001b[39mimport\u001b[39;00m ft2font\n\u001b[0;32m    144\u001b[0m     \u001b[39mfor\u001b[39;00m modname, minver \u001b[39min\u001b[39;00m [\n\u001b[0;32m    145\u001b[0m             (\u001b[39m\"\u001b[39m\u001b[39mcycler\u001b[39m\u001b[39m\"\u001b[39m, \u001b[39m\"\u001b[39m\u001b[39m0.10\u001b[39m\u001b[39m\"\u001b[39m),\n\u001b[0;32m    146\u001b[0m             (\u001b[39m\"\u001b[39m\u001b[39mdateutil\u001b[39m\u001b[39m\"\u001b[39m, \u001b[39m\"\u001b[39m\u001b[39m2.7\u001b[39m\u001b[39m\"\u001b[39m),\n\u001b[1;32m   (...)\u001b[0m\n\u001b[0;32m    149\u001b[0m             (\u001b[39m\"\u001b[39m\u001b[39mpyparsing\u001b[39m\u001b[39m\"\u001b[39m, \u001b[39m\"\u001b[39m\u001b[39m2.2.1\u001b[39m\u001b[39m\"\u001b[39m),\n\u001b[0;32m    150\u001b[0m     ]:\n\u001b[0;32m    151\u001b[0m         module \u001b[39m=\u001b[39m importlib\u001b[39m.\u001b[39mimport_module(modname)\n",
      "\u001b[1;31mImportError\u001b[0m: DLL load failed while importing ft2font: The specified module could not be found."
     ]
    }
   ],
   "source": [
    "import os, io, requests, json, geojson, cv2, glob, xlrd, math, http.client, pyproj, time\n",
    "import pandas as pd\n",
    "import matplotlib.pyplot as plt\n",
    "import numpy as np\n",
    "from decimal import Decimal\n",
    "import xlsxwriter as xlw\n",
    "from pandas.io.json import json_normalize\n",
    "from PIL import Image, ImageDraw, ImageFont\n",
    "from GPSPhoto import gpsphoto\n",
    "from datetime import datetime, timedelta\n",
    "from pytz import timezone\n",
    "from tqdm import tqdm\n",
    "from IPython.display import display\n",
    "from azure.storage.blob import BlockBlobService"
   ]
  },
  {
   "cell_type": "code",
   "execution_count": null,
   "metadata": {},
   "outputs": [],
   "source": []
  }
 ],
 "metadata": {
  "kernelspec": {
   "display_name": "Python 3.9.11 ('agpenv')",
   "language": "python",
   "name": "python3"
  },
  "language_info": {
   "codemirror_mode": {
    "name": "ipython",
    "version": 3
   },
   "file_extension": ".py",
   "mimetype": "text/x-python",
   "name": "python",
   "nbconvert_exporter": "python",
   "pygments_lexer": "ipython3",
   "version": "3.9.13"
  },
  "orig_nbformat": 4,
  "vscode": {
   "interpreter": {
    "hash": "8ada635e7736b27fa3426978739ef81ac4f29f0da450474ffb687cff06910867"
   }
  }
 },
 "nbformat": 4,
 "nbformat_minor": 2
}
