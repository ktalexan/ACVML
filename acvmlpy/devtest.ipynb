{
 "cells": [
  {
   "cell_type": "markdown",
   "metadata": {},
   "source": [
    "# OCML Development Notes\n",
    "## Python Development Documentation"
   ]
  },
  {
   "cell_type": "markdown",
   "metadata": {},
   "source": [
    "Importing the required libraries into the project"
   ]
  },
  {
   "cell_type": "code",
   "execution_count": 3,
   "metadata": {},
   "outputs": [
    {
     "ename": "ImportError",
     "evalue": "cannot import name 'BlockBlobService' from 'azure.storage.blob' (c:\\Users\\ktalexan\\AppData\\Local\\ESRI\\conda\\envs\\agpenv\\lib\\site-packages\\azure\\storage\\blob\\__init__.py)",
     "output_type": "error",
     "traceback": [
      "\u001b[1;31m---------------------------------------------------------------------------\u001b[0m",
      "\u001b[1;31mImportError\u001b[0m                               Traceback (most recent call last)",
      "\u001b[1;32me:\\OneDrive - County of Orange\\Projects\\OCML\\Github\\OCML-ACV\\acvmlpy\\devtest.ipynb Cell 3\u001b[0m in \u001b[0;36m<cell line: 14>\u001b[1;34m()\u001b[0m\n\u001b[0;32m     <a href='vscode-notebook-cell:/e%3A/OneDrive%20-%20County%20of%20Orange/Projects/OCML/Github/OCML-ACV/acvmlpy/devtest.ipynb#W2sZmlsZQ%3D%3D?line=11'>12</a>\u001b[0m \u001b[39mfrom\u001b[39;00m \u001b[39mtqdm\u001b[39;00m \u001b[39mimport\u001b[39;00m tqdm\n\u001b[0;32m     <a href='vscode-notebook-cell:/e%3A/OneDrive%20-%20County%20of%20Orange/Projects/OCML/Github/OCML-ACV/acvmlpy/devtest.ipynb#W2sZmlsZQ%3D%3D?line=12'>13</a>\u001b[0m \u001b[39mfrom\u001b[39;00m \u001b[39mIPython\u001b[39;00m\u001b[39m.\u001b[39;00m\u001b[39mdisplay\u001b[39;00m \u001b[39mimport\u001b[39;00m display\n\u001b[1;32m---> <a href='vscode-notebook-cell:/e%3A/OneDrive%20-%20County%20of%20Orange/Projects/OCML/Github/OCML-ACV/acvmlpy/devtest.ipynb#W2sZmlsZQ%3D%3D?line=13'>14</a>\u001b[0m \u001b[39mfrom\u001b[39;00m \u001b[39mazure\u001b[39;00m\u001b[39m.\u001b[39;00m\u001b[39mstorage\u001b[39;00m\u001b[39m.\u001b[39;00m\u001b[39mblob\u001b[39;00m \u001b[39mimport\u001b[39;00m BlockBlobService\n",
      "\u001b[1;31mImportError\u001b[0m: cannot import name 'BlockBlobService' from 'azure.storage.blob' (c:\\Users\\ktalexan\\AppData\\Local\\ESRI\\conda\\envs\\agpenv\\lib\\site-packages\\azure\\storage\\blob\\__init__.py)"
     ]
    }
   ],
   "source": [
    "import os, io, requests, json, geojson, cv2, glob, xlrd, math, http.client, pyproj, time\n",
    "import pandas as pd\n",
    "#import matplotlib.pyplot as plt\n",
    "import numpy as np\n",
    "from decimal import Decimal\n",
    "import xlsxwriter as xlw\n",
    "from pandas.io.json import json_normalize\n",
    "from PIL import Image, ImageDraw, ImageFont\n",
    "from GPSPhoto import gpsphoto\n",
    "from datetime import datetime, timedelta\n",
    "from pytz import timezone\n",
    "from tqdm import tqdm\n",
    "from IPython.display import display\n",
    "from azure.storage.blob import BlockBlobService"
   ]
  },
  {
   "cell_type": "code",
   "execution_count": null,
   "metadata": {},
   "outputs": [],
   "source": [
    "import matplotlib.pyplot as plt"
   ]
  },
  {
   "cell_type": "code",
   "execution_count": null,
   "metadata": {},
   "outputs": [],
   "source": []
  }
 ],
 "metadata": {
  "kernelspec": {
   "display_name": "Python 3.9.11 ('agpenv')",
   "language": "python",
   "name": "python3"
  },
  "language_info": {
   "codemirror_mode": {
    "name": "ipython",
    "version": 3
   },
   "file_extension": ".py",
   "mimetype": "text/x-python",
   "name": "python",
   "nbconvert_exporter": "python",
   "pygments_lexer": "ipython3",
   "version": "3.9.13"
  },
  "orig_nbformat": 4,
  "vscode": {
   "interpreter": {
    "hash": "8ada635e7736b27fa3426978739ef81ac4f29f0da450474ffb687cff06910867"
   }
  }
 },
 "nbformat": 4,
 "nbformat_minor": 2
}
